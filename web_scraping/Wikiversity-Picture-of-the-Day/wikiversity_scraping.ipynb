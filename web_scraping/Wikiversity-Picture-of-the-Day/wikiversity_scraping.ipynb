{
 "cells": [
  {
   "cell_type": "markdown",
   "metadata": {},
   "source": [
    "# Web Scraping Attempt\n",
    "\n",
    "Jimmy Hickey\n",
    "\n",
    "18-07-20\n",
    "\n",
    "Trying to get the Educational Picture of the Day from Wikiverisity."
   ]
  },
  {
   "cell_type": "code",
   "execution_count": 1,
   "metadata": {},
   "outputs": [],
   "source": [
    "import requests\n",
    "\n",
    "s = requests.Session() # Start a session\n",
    "r = s.get('https://en.wikiversity.org/wiki/Wikiversity:Main_Page') # Get a static page"
   ]
  },
  {
   "cell_type": "code",
   "execution_count": 2,
   "metadata": {},
   "outputs": [],
   "source": [
    "import bs4\n",
    "soup = bs4.BeautifulSoup(r.content, 'html.parser') # parse the web page content\n",
    "# print(soup.prettify())"
   ]
  },
  {
   "cell_type": "code",
   "execution_count": 3,
   "metadata": {},
   "outputs": [
    {
     "name": "stdout",
     "output_type": "stream",
     "text": [
      "['Educational Picture of the Day']\n"
     ]
    }
   ],
   "source": [
    "import re\n",
    "print(soup.body.findAll(text=re.compile('Educational Picture')))"
   ]
  },
  {
   "cell_type": "code",
   "execution_count": 4,
   "metadata": {},
   "outputs": [],
   "source": [
    "parent = soup.find(\"a\", {\"title\": \"Educational Media Awareness Campaign\"}).find_parent('td')"
   ]
  },
  {
   "cell_type": "code",
   "execution_count": 5,
   "metadata": {},
   "outputs": [],
   "source": [
    "img_location = parent.find(\"a\", class_=\"image\")\n",
    "# img_location = img_location.find(\"href\")"
   ]
  },
  {
   "cell_type": "code",
   "execution_count": 6,
   "metadata": {},
   "outputs": [
    {
     "name": "stdout",
     "output_type": "stream",
     "text": [
      "/wiki/File:Water_cycle.png\n",
      "https://en.wikiversity.org/wiki/File:Water_cycle.png\n"
     ]
    }
   ],
   "source": [
    "print(img_location['href'])\n",
    "url = \"https://en.wikiversity.org%s\" % img_location['href']\n",
    "print(url)\n",
    "r = s.get(url)\n",
    "soup = bs4.BeautifulSoup(r.content, 'html.parser') # parse the web page content"
   ]
  },
  {
   "cell_type": "code",
   "execution_count": 7,
   "metadata": {},
   "outputs": [],
   "source": [
    "img_link = soup.find(\"div\", {\"id\": \"file\"})"
   ]
  },
  {
   "cell_type": "code",
   "execution_count": 8,
   "metadata": {},
   "outputs": [
    {
     "name": "stdout",
     "output_type": "stream",
     "text": [
      "Water_cycle.png\n",
      "https://upload.wikimedia.org/wikipedia/commons/9/94/Water_cycle.png\n"
     ]
    }
   ],
   "source": [
    "final_img = img_link.find(\"a\")\n",
    "href = final_img['href']\n",
    "\n",
    "m = re.search('[^/]+$', href)\n",
    "file_name = m.group(0)\n",
    "print(file_name)\n",
    "\n",
    "url = \"https:%s\" % href\n",
    "print(url)"
   ]
  },
  {
   "cell_type": "code",
   "execution_count": 9,
   "metadata": {},
   "outputs": [
    {
     "data": {
      "text/plain": [
       "('Water_cycle.png', <http.client.HTTPMessage at 0x1095f3f98>)"
      ]
     },
     "execution_count": 9,
     "metadata": {},
     "output_type": "execute_result"
    }
   ],
   "source": [
    "import urllib.request\n",
    "urllib.request.urlretrieve(url, file_name)"
   ]
  },
  {
   "cell_type": "code",
   "execution_count": 10,
   "metadata": {},
   "outputs": [],
   "source": [
    "s.close()"
   ]
  },
  {
   "cell_type": "code",
   "execution_count": null,
   "metadata": {},
   "outputs": [],
   "source": []
  }
 ],
 "metadata": {
  "kernelspec": {
   "display_name": "Python 3",
   "language": "python",
   "name": "python3"
  },
  "language_info": {
   "codemirror_mode": {
    "name": "ipython",
    "version": 3
   },
   "file_extension": ".py",
   "mimetype": "text/x-python",
   "name": "python",
   "nbconvert_exporter": "python",
   "pygments_lexer": "ipython3",
   "version": "3.6.5"
  }
 },
 "nbformat": 4,
 "nbformat_minor": 2
}
