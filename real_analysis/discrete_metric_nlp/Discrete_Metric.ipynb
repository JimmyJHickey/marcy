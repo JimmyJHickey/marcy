{
 "cells": [
  {
   "cell_type": "markdown",
   "metadata": {
    "slideshow": {
     "slide_type": "slide"
    }
   },
   "source": [
    "# Discrete Metric in Natural Language Processing\n",
    "Jimmy Hickey\n"
   ]
  },
  {
   "cell_type": "markdown",
   "metadata": {
    "slideshow": {
     "slide_type": "slide"
    }
   },
   "source": [
    "# Motivation\n",
    "\n",
    "A metric is needed to compare two strings. \n",
    "\n",
    "How similar are \"noodle\" and \"poodle\"? \"waddle\" and \"swaddle\"? \"obviously\" and \"the worst word ever\"?"
   ]
  },
  {
   "cell_type": "markdown",
   "metadata": {
    "slideshow": {
     "slide_type": "slide"
    }
   },
   "source": [
    "# The Discrete Metric\n",
    "$\\delta(x, y) =\n",
    "\\begin{cases} \n",
    "      1 & \\text{if } x \\neq y \\\\\n",
    "      0 & \\text{if } x = y\n",
    "   \\end{cases}$"
   ]
  },
  {
   "cell_type": "markdown",
   "metadata": {
    "slideshow": {
     "slide_type": "slide"
    }
   },
   "source": [
    "# My Application of the Metric\n",
    "\n",
    "* If a letter is missing, add it.\n",
    "\n",
    "* If there is an extra letter, remove it.\n",
    "\n",
    "* If a letter is different, change it.\n",
    "\n",
    "* If the letter is correct leave it.\n",
    "\n",
    "$\\delta =\n",
    "\\begin{cases} \n",
    "      1 & Missing \\\\\n",
    "      1 & Remove \\\\\n",
    "      1 & Different\\\\\n",
    "      0 & Correct\n",
    "   \\end{cases}$\n",
    "   \n",
    "The minimum _edit distance_ is the minimum path that can be taken from one string to another (i.e. making the least changes)."
   ]
  },
  {
   "cell_type": "markdown",
   "metadata": {
    "slideshow": {
     "slide_type": "slide"
    }
   },
   "source": [
    "## Example\n",
    "\n",
    "Poodle and noodle are one letter different (the first), so the minimum edit distance is 1."
   ]
  },
  {
   "cell_type": "code",
   "execution_count": 1,
   "metadata": {
    "slideshow": {
     "slide_type": "fragment"
    }
   },
   "outputs": [
    {
     "ename": "NameError",
     "evalue": "name 'prettyOutput' is not defined",
     "output_type": "error",
     "traceback": [
      "\u001b[0;31m---------------------------------------------------------------------------\u001b[0m",
      "\u001b[0;31mNameError\u001b[0m                                 Traceback (most recent call last)",
      "\u001b[0;32m<ipython-input-1-36e247d9a9dd>\u001b[0m in \u001b[0;36m<module>\u001b[0;34m()\u001b[0m\n\u001b[1;32m      1\u001b[0m \u001b[0mx\u001b[0m \u001b[0;34m=\u001b[0m \u001b[0;34m\"noodle\"\u001b[0m\u001b[0;34m\u001b[0m\u001b[0m\n\u001b[1;32m      2\u001b[0m \u001b[0my\u001b[0m \u001b[0;34m=\u001b[0m \u001b[0;34m\"poodle\"\u001b[0m\u001b[0;34m\u001b[0m\u001b[0m\n\u001b[0;32m----> 3\u001b[0;31m \u001b[0mprettyOutput\u001b[0m\u001b[0;34m(\u001b[0m\u001b[0mx\u001b[0m\u001b[0;34m,\u001b[0m\u001b[0my\u001b[0m\u001b[0;34m)\u001b[0m\u001b[0;34m\u001b[0m\u001b[0m\n\u001b[0m",
      "\u001b[0;31mNameError\u001b[0m: name 'prettyOutput' is not defined"
     ]
    }
   ],
   "source": [
    "x = \"noodle\"\n",
    "y = \"poodle\"\n",
    "prettyOutput(x,y)"
   ]
  },
  {
   "cell_type": "code",
   "execution_count": 20,
   "metadata": {
    "collapsed": true,
    "slideshow": {
     "slide_type": "slide"
    }
   },
   "outputs": [],
   "source": [
    "def editDistanceDynamic(x, y):\n",
    "    matrix = []\n",
    "\n",
    "    # Make |x| by |y| matrix\n",
    "    for i in range(len(x) + 1):\n",
    "        matrix.append([0]* (len(y) +1))\n",
    "\n",
    "    for i in range(len(x)+1):\n",
    "        matrix[i][0] = i\n",
    "\n",
    "    for i in range(len(y)+1):\n",
    "        matrix[0][i] = i\n",
    "    \n",
    "    for i in range(1, len(x) + 1):\n",
    "        for j in range(1, len(y) + 1):\n",
    "            distanceHor = matrix[i][j-1] + 1\n",
    "            distanceVer = matrix[i-1][j] + 1\n",
    "            # Discrete Metric\n",
    "            if x[i-1] == y[j-1]:\n",
    "                distanceDia = matrix[i-1][j-1]\n",
    "            else:\n",
    "                distanceDia = matrix[i-1][j-1] + 1\n",
    "            matrix[i][j] = min(distanceHor, distanceVer, distanceDia)\n",
    "    return matrix"
   ]
  },
  {
   "cell_type": "code",
   "execution_count": 6,
   "metadata": {
    "collapsed": true,
    "slideshow": {
     "slide_type": "skip"
    }
   },
   "outputs": [],
   "source": [
    "def findShortestPath(m):\n",
    "    path = [(0,0)]\n",
    "    nrows = len(m)\n",
    "    ncols = len(m[0])\n",
    "    position = [0,0]\n",
    "    \n",
    "    while not path[-1][0] >= nrows-1 and not path[-1][1] >= ncols-1:\n",
    "        distanceHor = m[min(position[0], nrows-1)][min(position[1] + 1, ncols-1)]\n",
    "        distanceVer = m[min(position[0]+1, nrows-1)][min(position[1], ncols-1)]\n",
    "        distanceDia = m[min(position[0]+1, nrows-1)][min(position[1] + 1, ncols-1)]\n",
    "        \n",
    "        if min(distanceHor, distanceVer, distanceDia) == distanceDia:\n",
    "            path.append((position[0]+1, position[1]+1))\n",
    "            position[0] = min(position[0] + 1, nrows-1)\n",
    "            position[1] = min(position[1] +1, ncols -1)\n",
    "        elif min(distanceHor, distanceVer, distanceDia) == distanceHor:\n",
    "            path.append((position[0], position[1] + 1))\n",
    "            position[1] = min(position[1] +1, ncols -1)\n",
    "        else:\n",
    "            path.append((position[0]+1, position[1]))\n",
    "            position[0] = min(position[0] + 1, nrows-1)\n",
    "        \n",
    "    while not path[-1][0] == nrows-1:\n",
    "        path.append((path[-1][0]+1,path[-1][1]))\n",
    "    while not path[-1][1] == ncols-1:\n",
    "        path.append((path[-1][0], path[-1][1]+1))\n",
    "    \n",
    "    return path"
   ]
  },
  {
   "cell_type": "code",
   "execution_count": 7,
   "metadata": {
    "collapsed": true,
    "slideshow": {
     "slide_type": "skip"
    }
   },
   "outputs": [],
   "source": [
    "import pandas as pd\n",
    "def prettyOutput(x, y):\n",
    "    xlist = [\" \"] + list(x)\n",
    "    ylist = [\" \"] + list(y)\n",
    "\n",
    "    myMatrix = editDistanceDynamic(x,y)\n",
    "    df = pd.DataFrame(myMatrix, index = xlist, columns = ylist)\n",
    "    print(\"Minimum Distance: \", myMatrix[-1][-1])\n",
    "    print(df)\n",
    "    print(\"Path: \", findShortestPath(myMatrix))\n",
    "    "
   ]
  },
  {
   "cell_type": "code",
   "execution_count": 8,
   "metadata": {
    "slideshow": {
     "slide_type": "slide"
    }
   },
   "outputs": [
    {
     "name": "stdout",
     "output_type": "stream",
     "text": [
      "Minimum Distance:  4\n",
      "      h  ~  -  j  i  m  y\n",
      "   0  1  2  3  4  5  6  7\n",
      "H  1  1  2  3  4  5  6  7\n",
      "i  2  2  2  3  4  4  5  6\n",
      "~  3  3  2  3  4  5  5  6\n",
      "-  4  4  3  2  3  4  5  6\n",
      "J  5  5  4  3  3  4  5  6\n",
      "i  6  6  5  4  4  3  4  5\n",
      "m  7  7  6  5  5  4  3  4\n",
      "m  8  8  7  6  6  5  4  4\n",
      "y  9  9  8  7  7  6  5  4\n",
      "Path:  [(0, 0), (1, 1), (2, 2), (3, 2), (4, 3), (5, 4), (6, 5), (7, 6), (8, 7), (9, 7)]\n"
     ]
    }
   ],
   "source": [
    "x = \"Hi~-Jimmy\"\n",
    "y = \"h~-jimy\"\n",
    "prettyOutput(x, y)"
   ]
  },
  {
   "attachments": {
    "Discrete_Metric_Animation.gif": {
     "image/gif": "[encoded data removed]"
    }
   },
   "cell_type": "markdown",
   "metadata": {
    "slideshow": {
     "slide_type": "slide"
    }
   },
   "source": [
    "![Discrete_Metric_Animation.gif](attachment:Discrete_Metric_Animation.gif)"
   ]
  },
  {
   "cell_type": "code",
   "execution_count": 27,
   "metadata": {
    "slideshow": {
     "slide_type": "slide"
    }
   },
   "outputs": [
    {
     "name": "stdout",
     "output_type": "stream",
     "text": [
      "Minimum Distance:  1\n",
      "      s  w  a  d  d  l  e\n",
      "   0  1  2  3  4  5  6  7\n",
      "w  1  1  1  2  3  4  5  6\n",
      "a  2  2  2  1  2  3  4  5\n",
      "d  3  3  3  2  1  2  3  4\n",
      "d  4  4  4  3  2  1  2  3\n",
      "l  5  5  5  4  3  2  1  2\n",
      "e  6  6  6  5  4  3  2  1\n",
      "Path:  [(0, 0), (1, 1), (1, 2), (2, 3), (3, 4), (4, 5), (5, 6), (6, 7)]\n"
     ]
    }
   ],
   "source": [
    "x = \"waddle\"\n",
    "y = \"swaddle\"\n",
    "prettyOutput(x,y)"
   ]
  },
  {
   "cell_type": "code",
   "execution_count": 23,
   "metadata": {
    "slideshow": {
     "slide_type": "slide"
    }
   },
   "outputs": [
    {
     "name": "stdout",
     "output_type": "stream",
     "text": [
      "Minimum Distance:  17\n",
      "      T  h  e     W  o  r  s  t       W   o   r   d       E   v   e   r\n",
      "   0  1  2  3  4  5  6  7  8  9  10  11  12  13  14  15  16  17  18  19\n",
      "O  1  1  2  3  4  5  6  7  8  9  10  11  12  13  14  15  16  17  18  19\n",
      "b  2  2  2  3  4  5  6  7  8  9  10  11  12  13  14  15  16  17  18  19\n",
      "v  3  3  3  3  4  5  6  7  8  9  10  11  12  13  14  15  16  16  17  18\n",
      "i  4  4  4  4  4  5  6  7  8  9  10  11  12  13  14  15  16  17  17  18\n",
      "o  5  5  5  5  5  5  5  6  7  8   9  10  11  12  13  14  15  16  17  18\n",
      "u  6  6  6  6  6  6  6  6  7  8   9  10  11  12  13  14  15  16  17  18\n",
      "s  7  7  7  7  7  7  7  7  6  7   8   9  10  11  12  13  14  15  16  17\n",
      "l  8  8  8  8  8  8  8  8  7  7   8   9  10  11  12  13  14  15  16  17\n",
      "y  9  9  9  9  9  9  9  9  8  8   8   9  10  11  12  13  14  15  16  17\n",
      "Path:  [(0, 0), (1, 1), (2, 2), (3, 3), (4, 4), (5, 5), (5, 6), (6, 7), (7, 8), (8, 9), (9, 10), (9, 11), (9, 12), (9, 13), (9, 14), (9, 15), (9, 16), (9, 17), (9, 18), (9, 19)]\n"
     ]
    }
   ],
   "source": [
    "x = \"obviously\"\n",
    "y = \"the worst word ever\"\n",
    "prettyOutput(x,y)"
   ]
  },
  {
   "cell_type": "code",
   "execution_count": 9,
   "metadata": {
    "slideshow": {
     "slide_type": "slide"
    }
   },
   "outputs": [
    {
     "name": "stdout",
     "output_type": "stream",
     "text": [
      "Minimum Distance:  4\n",
      "      J  i  m  m  y     i  s      c   o   o   l\n",
      "   0  1  2  3  4  5  6  7  8  9  10  11  12  13\n",
      "J  1  0  1  2  3  4  5  6  7  8   9  10  11  12\n",
      "i  2  1  0  1  2  3  4  5  6  7   8   9  10  11\n",
      "m  3  2  1  0  1  2  3  4  5  6   7   8   9  10\n",
      "m  4  3  2  1  0  1  2  3  4  5   6   7   8   9\n",
      "y  5  4  3  2  1  0  1  2  3  4   5   6   7   8\n",
      "   6  5  4  3  2  1  0  1  2  3   4   5   6   7\n",
      "i  7  6  5  4  3  2  1  0  1  2   3   4   5   6\n",
      "s  8  7  6  5  4  3  2  1  0  1   2   3   4   5\n",
      "   9  8  7  6  5  4  3  2  1  0   1   2   3   4\n",
      "Path:  [(0, 0), (1, 1), (2, 2), (3, 3), (4, 4), (5, 5), (6, 6), (7, 7), (8, 8), (9, 9), (9, 10), (9, 11), (9, 12), (9, 13)]\n"
     ]
    }
   ],
   "source": [
    "x = \"Jimmy is \"\n",
    "y = \"Jimmy is cool\"\n",
    "prettyOutput(x,y)"
   ]
  },
  {
   "cell_type": "code",
   "execution_count": 10,
   "metadata": {
    "slideshow": {
     "slide_type": "slide"
    }
   },
   "outputs": [
    {
     "name": "stdout",
     "output_type": "stream",
     "text": [
      "Minimum Distance:  2\n",
      "        W   e       a   l   l      l  o   v   e       J   i   m   m   y\n",
      "    0   1   2   3   4   5   6   7  8  9  10  11  12  13  14  15  16  17\n",
      "W   1   0   1   2   3   4   5   6  7  8   9  10  11  12  13  14  15  16\n",
      "e   2   1   0   1   2   3   4   5  6  7   8   9  10  11  12  13  14  15\n",
      "    3   2   1   0   1   2   3   4  5  6   7   8   9  10  11  12  13  14\n",
      "a   4   3   2   1   0   1   2   3  4  5   6   7   8   9  10  11  12  13\n",
      "l   5   4   3   2   1   0   1   2  3  4   5   6   7   8   9  10  11  12\n",
      "l   6   5   4   3   2   1   0   1  2  3   4   5   6   7   8   9  10  11\n",
      "    7   6   5   4   3   2   1   0  1  2   3   4   5   6   7   8   9  10\n",
      "l   8   7   6   5   4   3   2   1  0  1   2   3   4   5   6   7   8   9\n",
      "i   9   8   7   6   5   4   3   2  1  1   2   3   4   5   5   6   7   8\n",
      "k  10   9   8   7   6   5   4   3  2  2   2   3   4   5   6   6   7   8\n",
      "e  11  10   9   8   7   6   5   4  3  3   3   2   3   4   5   6   7   8\n",
      "   12  11  10   9   8   7   6   5  4  4   4   3   2   3   4   5   6   7\n",
      "J  13  12  11  10   9   8   7   6  5  5   5   4   3   2   3   4   5   6\n",
      "i  14  13  12  11  10   9   8   7  6  6   6   5   4   3   2   3   4   5\n",
      "m  15  14  13  12  11  10   9   8  7  7   7   6   5   4   3   2   3   4\n",
      "m  16  15  14  13  12  11  10   9  8  8   8   7   6   5   4   3   2   3\n",
      "y  17  16  15  14  13  12  11  10  9  9   9   8   7   6   5   4   3   2\n",
      "Path:  [(0, 0), (1, 1), (2, 2), (3, 3), (4, 4), (5, 5), (6, 6), (7, 7), (8, 8), (9, 9), (10, 10), (11, 11), (12, 12), (13, 13), (14, 14), (15, 15), (16, 16), (17, 17)]\n"
     ]
    }
   ],
   "source": [
    "x = \"We all like Jimmy\"\n",
    "y = \"We all love Jimmy\"\n",
    "prettyOutput(x,y)"
   ]
  },
  {
   "cell_type": "markdown",
   "metadata": {
    "slideshow": {
     "slide_type": "slide"
    }
   },
   "source": [
    "# Molecular Biology\n",
    "DNA makes very long strands, however examining short segments offers a lot of information. Segments that are similar often exhibit similar characteristics."
   ]
  },
  {
   "cell_type": "code",
   "execution_count": 11,
   "metadata": {
    "scrolled": true,
    "slideshow": {
     "slide_type": "fragment"
    }
   },
   "outputs": [
    {
     "name": "stdout",
     "output_type": "stream",
     "text": [
      "Minimum Distance:  9\n",
      "        C   A   C   C   T   G   G   G   A   T   T   A   C   G   G   C   C   T\n",
      "    0   1   2   3   4   5   6   7   8   9  10  11  12  13  14  15  16  17  18\n",
      "C   1   0   1   2   3   4   5   6   7   8   9  10  11  12  13  14  15  16  17\n",
      "A   2   1   0   1   2   3   4   5   6   7   8   9  10  11  12  13  14  15  16\n",
      "C   3   2   1   0   1   2   3   4   5   6   7   8   9  10  11  12  13  14  15\n",
      "C   4   3   2   1   0   1   2   3   4   5   6   7   8   9  10  11  12  13  14\n",
      "T   5   4   3   2   1   0   1   2   3   4   5   6   7   8   9  10  11  12  13\n",
      "G   6   5   4   3   2   1   0   1   2   3   4   5   6   7   8   9  10  11  12\n",
      "A   7   6   5   4   3   2   1   1   2   2   3   4   5   6   7   8   9  10  11\n",
      "C   8   7   6   5   4   3   2   2   2   3   3   4   5   5   6   7   8   9  10\n",
      "C   9   8   7   6   5   4   3   3   3   3   4   4   5   5   6   7   7   8   9\n",
      "G  10   9   8   7   6   5   4   3   3   4   4   5   5   6   5   6   7   8   9\n",
      "G  11  10   9   8   7   6   5   4   3   4   5   5   6   6   6   5   6   7   8\n",
      "G  12  11  10   9   8   7   6   5   4   4   5   6   6   7   6   6   6   7   8\n",
      "A  13  12  11  10   9   8   7   6   5   4   5   6   6   7   7   7   7   7   8\n",
      "C  14  13  12  11  10   9   8   7   6   5   5   6   7   6   7   8   7   7   8\n",
      "A  15  14  13  12  11  10   9   8   7   6   6   6   6   7   7   8   8   8   8\n",
      "G  16  15  14  13  12  11  10   9   8   7   7   7   7   7   7   7   8   9   9\n",
      "G  17  16  15  14  13  12  11  10   9   8   8   8   8   8   7   7   8   9  10\n",
      "A  18  17  16  15  14  13  12  11  10   9   9   9   8   9   8   8   8   9  10\n",
      "C  19  18  17  16  15  14  13  12  11  10  10  10   9   8   9   9   8   8   9\n",
      "C  20  19  18  17  16  15  14  13  12  11  11  11  10   9   9  10   9   8   9\n",
      "C  21  20  19  18  17  16  15  14  13  12  12  12  11  10  10  10  10   9   9\n",
      "T  22  21  20  19  18  17  16  15  14  13  12  12  12  11  11  11  11  10   9\n",
      "Path:  [(0, 0), (1, 1), (2, 2), (3, 3), (4, 4), (5, 5), (6, 6), (7, 7), (8, 8), (9, 9), (10, 10), (11, 11), (12, 12), (13, 12), (14, 13), (15, 14), (16, 15), (17, 15), (18, 16), (19, 17), (20, 17), (21, 18), (22, 18)]\n"
     ]
    }
   ],
   "source": [
    "x = \"CACCTGACCGGGACAGGACCCT\"\n",
    "y = \"CACCTGGGATTACGGCCT\"\n",
    "prettyOutput(x,y)"
   ]
  },
  {
   "cell_type": "markdown",
   "metadata": {
    "slideshow": {
     "slide_type": "slide"
    }
   },
   "source": [
    "# Something you should never do..."
   ]
  },
  {
   "cell_type": "code",
   "execution_count": 33,
   "metadata": {
    "slideshow": {
     "slide_type": "fragment"
    }
   },
   "outputs": [
    {
     "name": "stdout",
     "output_type": "stream",
     "text": [
      "Minimum Distance:  23\n",
      "        J   i   m   m   y       i   s       t   h   e       b   e   s   t\n",
      "    0   1   2   3   4   5   6   7   8   9  10  11  12  13  14  15  16  17\n",
      "J   1   0   1   2   3   4   5   6   7   8   9  10  11  12  13  14  15  16\n",
      "i   2   1   0   1   2   3   4   5   6   7   8   9  10  11  12  13  14  15\n",
      "m   3   2   1   0   1   2   3   4   5   6   7   8   9  10  11  12  13  14\n",
      "m   4   3   2   1   0   1   2   3   4   5   6   7   8   9  10  11  12  13\n",
      "y   5   4   3   2   1   0   1   2   3   4   5   6   7   8   9  10  11  12\n",
      "    6   5   4   3   2   1   0   1   2   3   4   5   6   7   8   9  10  11\n",
      "h   7   6   5   4   3   2   1   1   2   3   4   4   5   6   7   8   9  10\n",
      "a   8   7   6   5   4   3   2   2   2   3   4   5   5   6   7   8   9  10\n",
      "s   9   8   7   6   5   4   3   3   2   3   4   5   6   6   7   8   8   9\n",
      "   10   9   8   7   6   5   4   4   3   2   3   4   5   6   7   8   9   9\n",
      "a  11  10   9   8   7   6   5   5   4   3   3   4   5   6   7   8   9  10\n",
      "   12  11  10   9   8   7   6   6   5   4   4   4   5   5   6   7   8   9\n",
      "r  13  12  11  10   9   8   7   7   6   5   5   5   5   6   6   7   8   9\n",
      "e  14  13  12  11  10   9   8   8   7   6   6   6   5   6   7   6   7   8\n",
      "a  15  14  13  12  11  10   9   9   8   7   7   7   6   6   7   7   7   8\n",
      "l  16  15  14  13  12  11  10  10   9   8   8   8   7   7   7   8   8   8\n",
      "l  17  16  15  14  13  12  11  11  10   9   9   9   8   8   8   8   9   9\n",
      "y  18  17  16  15  14  13  12  12  11  10  10  10   9   9   9   9   9  10\n",
      "   19  18  17  16  15  14  13  13  12  11  11  11  10   9  10  10  10  10\n",
      "g  20  19  18  17  16  15  14  14  13  12  12  12  11  10  10  11  11  11\n",
      "o  21  20  19  18  17  16  15  15  14  13  13  13  12  11  11  11  12  12\n",
      "o  22  21  20  19  18  17  16  16  15  14  14  14  13  12  12  12  12  13\n",
      "d  23  22  21  20  19  18  17  17  16  15  15  15  14  13  13  13  13  13\n",
      "   24  23  22  21  20  19  18  18  17  16  16  16  15  14  14  14  14  14\n",
      "p  25  24  23  22  21  20  19  19  18  17  17  17  16  15  15  15  15  15\n",
      "r  26  25  24  23  22  21  20  20  19  18  18  18  17  16  16  16  16  16\n",
      "e  27  26  25  24  23  22  21  21  20  19  19  19  18  17  17  16  17  17\n",
      "s  28  27  26  25  24  23  22  22  21  20  20  20  19  18  18  17  16  17\n",
      "e  29  28  27  26  25  24  23  23  22  21  21  21  20  19  19  18  17  17\n",
      "n  30  29  28  27  26  25  24  24  23  22  22  22  21  20  20  19  18  18\n",
      "t  31  30  29  28  27  26  25  25  24  23  22  23  22  21  21  20  19  18\n",
      "a  32  31  30  29  28  27  26  26  25  24  23  23  23  22  22  21  20  19\n",
      "t  33  32  31  30  29  28  27  27  26  25  24  24  24  23  23  22  21  20\n",
      "i  34  33  32  31  30  29  28  27  27  26  25  25  25  24  24  23  22  21\n",
      "o  35  34  33  32  31  30  29  28  28  27  26  26  26  25  25  24  23  22\n",
      "n  36  35  34  33  32  31  30  29  29  28  27  27  27  26  26  25  24  23\n",
      "Path:  [(0, 0), (1, 1), (2, 2), (3, 3), (4, 4), (5, 5), (6, 6), (7, 7), (8, 8), (9, 8), (10, 9), (11, 10), (12, 11), (13, 12), (14, 12), (15, 13), (16, 14), (17, 15), (18, 16), (19, 17), (20, 17), (21, 17), (22, 17), (23, 17), (24, 17), (25, 17), (26, 17), (27, 17), (28, 17), (29, 17), (30, 17), (31, 17), (32, 17), (33, 17), (34, 17), (35, 17), (36, 17)]\n"
     ]
    }
   ],
   "source": [
    "x = \"Jimmy has a really good presentation\"\n",
    "y = \"Jimmy is the best\"\n",
    "prettyOutput(x,y)"
   ]
  },
  {
   "cell_type": "markdown",
   "metadata": {
    "slideshow": {
     "slide_type": "fragment"
    }
   },
   "source": [
    "###### I hope that worked."
   ]
  },
  {
   "cell_type": "markdown",
   "metadata": {
    "slideshow": {
     "slide_type": "slide"
    }
   },
   "source": [
    "# Now with words!"
   ]
  },
  {
   "cell_type": "code",
   "execution_count": 12,
   "metadata": {
    "collapsed": true,
    "slideshow": {
     "slide_type": "skip"
    }
   },
   "outputs": [],
   "source": [
    "def editDistanceWordDynamic(x, y):\n",
    "    matrix = []\n",
    "\n",
    "    xWords = x.split()\n",
    "    yWords = y.split()\n",
    "    \n",
    "    # Make |x| by |y| matrix\n",
    "    for i in range(len(xWords) + 1):\n",
    "        matrix.append([0]* (len(yWords) +1))\n",
    "\n",
    "    for i in range(len(xWords)+1):\n",
    "        matrix[i][0] = i\n",
    "\n",
    "    for i in range(len(yWords)+1):\n",
    "        matrix[0][i] = i\n",
    "        \n",
    "        \n",
    "    for i in range(1, len(xWords) + 1):\n",
    "        for j in range(1, len(yWords) + 1):\n",
    "            distanceHor = matrix[i][j-1] + 1\n",
    "            distanceVer = matrix[i-1][j] + 1\n",
    "            # Discrete Metric\n",
    "            if xWords[i-1] == yWords[j-1]:\n",
    "                distanceDia = matrix[i-1][j-1]\n",
    "            else:\n",
    "                distanceDia = matrix[i-1][j-1] + 1\n",
    "            matrix[i][j] = min(distanceHor, distanceVer, distanceDia)\n",
    "    return matrix[-1][-1]"
   ]
  },
  {
   "cell_type": "code",
   "execution_count": 26,
   "metadata": {
    "scrolled": true,
    "slideshow": {
     "slide_type": "slide"
    }
   },
   "outputs": [
    {
     "name": "stdout",
     "output_type": "stream",
     "text": [
      "2\n"
     ]
    }
   ],
   "source": [
    "s1 = \"Jimmy is super cool\"\n",
    "s2 = \"Jimmy is the best\"\n",
    "\n",
    "x = s1.split()\n",
    "y = s2.split()\n",
    "\n",
    "print(editDistanceWordDynamic(s1,s2))"
   ]
  },
  {
   "cell_type": "markdown",
   "metadata": {
    "slideshow": {
     "slide_type": "slide"
    }
   },
   "source": [
    "![Hemingway_v_Kafka.png](Hemingway_v_Kafka.png)\n",
    "\n"
   ]
  },
  {
   "cell_type": "code",
   "execution_count": 17,
   "metadata": {
    "slideshow": {
     "slide_type": "slide"
    }
   },
   "outputs": [
    {
     "name": "stdout",
     "output_type": "stream",
     "text": [
      "The number of words in The Old Man And The Sea:\t 24388\n",
      "The number of words in Metamorphosis:\t\t 21994\n",
      "Entries in matrix:\t\t\t\t 536389672\n",
      "The Old Man and the Sea and Metamorphosis are  22922  words different.\n",
      "Computation time:  0:11:30.730314\n"
     ]
    }
   ],
   "source": [
    "import datetime\n",
    "with open('TheOldManAndTheSea.txt', 'r') as myfile:\n",
    "    TheOldManAndTheSea=myfile.read().replace('\\n', '')\n",
    "    \n",
    "with open('Metamorphosis.txt', 'r') as myfile:\n",
    "    Metamorphosis=myfile.read().replace('\\n', '')\n",
    "\n",
    "print(\"The number of words in The Old Man And The Sea:\\t\", len(TheOldManAndTheSea.split()))\n",
    "print(\"The number of words in Metamorphosis:\\t\\t\", len(Metamorphosis.split()))\n",
    "print(\"Entries in matrix:\\t\\t\\t\\t\", len(TheOldManAndTheSea.split()) * len(Metamorphosis.split()))\n",
    "\n",
    "before = datetime.datetime.now()\n",
    "plagiarism = editDistanceWordDynamic(TheOldManAndTheSea, Metamorphosis)\n",
    "after = datetime.datetime.now()\n",
    "print(\"The Old Man and the Sea and Metamorphosis are \", plagiarism, \" words different.\")\n",
    "print(\"Computation time: \", after-before )"
   ]
  },
  {
   "cell_type": "code",
   "execution_count": 19,
   "metadata": {
    "slideshow": {
     "slide_type": "slide"
    }
   },
   "outputs": [
    {
     "name": "stdout",
     "output_type": "stream",
     "text": [
      "The number of words in nineteen84:\t\t 94710\n",
      "The number of words in frankenstein:\t\t 74241\n",
      "Entries in matrix:\t\t\t\t 7031365110\n"
     ]
    }
   ],
   "source": [
    "with open('nineteen84.txt', 'r') as myfile:\n",
    "    nineteen84=myfile.read().replace('\\n', '')\n",
    "    \n",
    "with open('Frankenstein.txt', 'r') as myfile:\n",
    "    frankenstein=myfile.read().replace('\\n', '')\n",
    "\n",
    "print(\"The number of words in nineteen84:\\t\\t\", len(nineteen84.split()))\n",
    "print(\"The number of words in frankenstein:\\t\\t\", len(frankenstein.split()))\n",
    "print(\"Entries in matrix:\\t\\t\\t\\t\", len(nineteen84.split()) * len(frankenstein.split()))\n",
    "\n",
    "# plagiarism = editDistanceWordDynamic(nineteen84, frankenstein)"
   ]
  },
  {
   "cell_type": "code",
   "execution_count": 15,
   "metadata": {
    "slideshow": {
     "slide_type": "slide"
    }
   },
   "outputs": [
    {
     "name": "stdout",
     "output_type": "stream",
     "text": [
      "The number of words in Moby Dick:\t\t 110927\n",
      "The number of words in Pride and Prejudice:\t 110849\n",
      "Entries in matrix:\t\t\t\t 12296147023\n"
     ]
    }
   ],
   "source": [
    "with open('MobyDick.txt', 'r') as myfile:\n",
    "    mobyDick=myfile.read().replace('\\n', '')\n",
    "    \n",
    "with open('PrideAndPrejudice.txt', 'r') as myfile:\n",
    "    prideAndPrejudice=myfile.read().replace('\\n', '')\n",
    "\n",
    "print(\"The number of words in Moby Dick:\\t\\t\", len(mobyDick.split()))\n",
    "print(\"The number of words in Pride and Prejudice:\\t\", len(prideAndPrejudice.split()))\n",
    "print(\"Entries in matrix:\\t\\t\\t\\t\", len(mobyDick.split()) * len(prideAndPrejudice.split()))\n",
    " \n",
    "# plagiarism = editDistanceWordDynamic(mobyDick, prideAndPrejudice)"
   ]
  },
  {
   "cell_type": "markdown",
   "metadata": {
    "slideshow": {
     "slide_type": "slide"
    }
   },
   "source": [
    "# Changes and Improvements\n",
    "\n",
    "* Support punctuation\n",
    "* Support capitalization\n",
    "* Improve the algorithm\n",
    "* Change the metric"
   ]
  },
  {
   "cell_type": "markdown",
   "metadata": {
    "slideshow": {
     "slide_type": "slide"
    }
   },
   "source": [
    "# Further applications\n",
    "\n",
    "* Plagiarism check\n",
    "* Spell check"
   ]
  },
  {
   "cell_type": "markdown",
   "metadata": {
    "slideshow": {
     "slide_type": "slide"
    }
   },
   "source": [
    "# Credits\n",
    "Pride and Prejudice text: http://www.gutenberg.org/files/1342/1342.txt\n",
    "\n",
    "The Old Man and the Sea text: https://gutenberg.ca/ebooks/hemingwaye-oldmanandthesea/hemingwaye-oldmanandthesea-00-t.txt\n",
    "\n",
    "Metamorphosis text: https://www.gutenberg.org/files/5200/5200-h/5200-h.htm\n",
    "\n",
    "Moby Dick text: https://gist.github.com/StevenClontz/4445774\n",
    "\n",
    "1984 text: http://gutenberg.net.au/ebooks01/0100021.txt\n",
    "\n",
    "Frankenstein text: https://www.gutenberg.org/files/84/84-h/84-h.htm\n",
    "\n",
    "### Photo Credit:\n",
    "\n",
    "https://www.quora.com/What-is-the-deeper-meaning-of-Franz-Kafkas-The-Metamorphosis\n",
    "\n",
    "https://www.barnesandnoble.com/w/old-man-and-the-sea-ernest-hemingway/1100300820"
   ]
  }
 ],
 "metadata": {
  "celltoolbar": "Slideshow",
  "kernelspec": {
   "display_name": "Python 3",
   "language": "python",
   "name": "python3"
  },
  "language_info": {
   "codemirror_mode": {
    "name": "ipython",
    "version": 3
   },
   "file_extension": ".py",
   "mimetype": "text/x-python",
   "name": "python",
   "nbconvert_exporter": "python",
   "pygments_lexer": "ipython3",
   "version": "3.6.5"
  }
 },
 "nbformat": 4,
 "nbformat_minor": 2
}
